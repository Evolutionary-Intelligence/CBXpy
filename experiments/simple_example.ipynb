{
 "cells": [
  {
   "cell_type": "code",
   "execution_count": 12,
   "id": "d0af71a6-7c39-4ac2-88e1-15bdc1fe9022",
   "metadata": {},
   "outputs": [
    {
     "name": "stdout",
     "output_type": "stream",
     "text": [
      "The autoreload extension is already loaded. To reload it, use:\n",
      "  %reload_ext autoreload\n"
     ]
    }
   ],
   "source": [
    "%load_ext autoreload\n",
    "%autoreload 2\n",
    "import numpy as np\n",
    "import cbx as cbx\n",
    "from cbx.dynamics import CBO\n",
    "from cbx.objectives import Rastrigin\n",
    "import cbx.utils.termination as term\n",
    "from cbx.scheduler import effective_sample_size\n",
    "from cbx.plotting import plot_dynamic, plot_dynamic_history\n",
    "import matplotlib.pyplot as plt"
   ]
  },
  {
   "cell_type": "markdown",
   "id": "246b871a-bf02-4dd5-961c-60e7dbabcf03",
   "metadata": {},
   "source": [
    "# Define the parameters"
   ]
  },
  {
   "cell_type": "code",
   "execution_count": 5,
   "id": "3b24dcf3-d293-4921-a261-0e11d0292d27",
   "metadata": {},
   "outputs": [],
   "source": [
    "conf = {'alpha': 40.0,\n",
    "        'dt': 0.1,\n",
    "        'sigma': 1.,\n",
    "        'lamda': 1.0,\n",
    "        'batch_args':{\n",
    "        'batch_size':200,\n",
    "        'batch_partial': False},\n",
    "        'd': 2,\n",
    "        'term_criteria':[term.max_it_term(50)],\n",
    "        'N': 50,\n",
    "        'M': 3,\n",
    "        'track_args': {'names':\n",
    "                       ['update_norm', \n",
    "                        'energy','x', \n",
    "                        'consensus', \n",
    "                        'drift']},}"
   ]
  },
  {
   "cell_type": "markdown",
   "id": "b046058e-7ff3-454d-be0b-60dba7695bcc",
   "metadata": {},
   "source": [
    "# Define the initial positions of the particles and objective function"
   ]
  },
  {
   "cell_type": "code",
   "execution_count": 34,
   "id": "00e42335-26ef-414b-8d77-31508992339e",
   "metadata": {},
   "outputs": [],
   "source": [
    "x = cbx.utils.init_particles(shape=(conf['M'], conf['N'], conf['d']), x_min=-2., x_max = 1.)\n",
    "f = Rastrigin()"
   ]
  },
  {
   "cell_type": "markdown",
   "id": "77e1cb2e-d826-46a8-8af6-052557ccd8e9",
   "metadata": {},
   "source": [
    "# Define the dynamic and scheduler"
   ]
  },
  {
   "cell_type": "code",
   "execution_count": 57,
   "id": "f702e23d-7e47-45bd-a467-9e606161c6e0",
   "metadata": {},
   "outputs": [],
   "source": [
    "dyn = CBO(f, x=x, noise='isotropic', f_dim='3D', \n",
    "          **conf)\n",
    "sched = scheduler([effective_sample_size(name='alpha', eta = 0.1)])"
   ]
  },
  {
   "cell_type": "markdown",
   "id": "a064a8b1-cbb6-4216-b675-afafb7e508bc",
   "metadata": {},
   "source": [
    "# Run the CBO algorithm"
   ]
  },
  {
   "cell_type": "code",
   "execution_count": 58,
   "id": "10a967a8-12c3-40a9-aee1-85a89772b629",
   "metadata": {
    "scrolled": true,
    "tags": []
   },
   "outputs": [
    {
     "name": "stdout",
     "output_type": "stream",
     "text": [
      "....................\n",
      "Starting Optimization with dynamic: CBO\n",
      "....................\n",
      "Time: 0.100, best current energy: [4.81428948 2.68357543 1.16150752]\n",
      "Number of function evaluations: [100 100 100]\n",
      "Time: 0.200, best current energy: [2.49427032 2.67627318 1.120278  ]\n",
      "Number of function evaluations: [150 150 150]\n",
      "Time: 0.300, best current energy: [2.49427032 2.26543024 0.63385735]\n",
      "Number of function evaluations: [200 200 200]\n",
      "Time: 0.400, best current energy: [0.58269907 2.26543024 0.63385735]\n",
      "Number of function evaluations: [250 250 250]\n",
      "Time: 0.500, best current energy: [0.58269907 0.07614772 0.16197418]\n",
      "Number of function evaluations: [300 300 300]\n",
      "Time: 0.600, best current energy: [0.58269907 0.07614772 0.16197418]\n",
      "Number of function evaluations: [350 350 350]\n",
      "Time: 0.700, best current energy: [0.54312765 0.07614772 0.04578507]\n",
      "Number of function evaluations: [400 400 400]\n",
      "Time: 0.800, best current energy: [0.02047373 0.07614772 0.04578507]\n",
      "Number of function evaluations: [450 450 450]\n",
      "Time: 0.900, best current energy: [0.02047373 0.07614772 0.04578507]\n",
      "Number of function evaluations: [500 500 500]\n",
      "Time: 1.000, best current energy: [0.02047373 0.07614772 0.04578507]\n",
      "Number of function evaluations: [550 550 550]\n",
      "Time: 1.100, best current energy: [0.02047373 0.02678015 0.04578507]\n",
      "Number of function evaluations: [600 600 600]\n",
      "Time: 1.200, best current energy: [0.02047373 0.02678015 0.03723235]\n",
      "Number of function evaluations: [650 650 650]\n",
      "Time: 1.300, best current energy: [0.02047373 0.02678015 0.03723235]\n",
      "Number of function evaluations: [700 700 700]\n",
      "Time: 1.400, best current energy: [0.02047373 0.01694544 0.03723235]\n",
      "Number of function evaluations: [750 750 750]\n",
      "Time: 1.500, best current energy: [0.02047373 0.01031921 0.03723235]\n",
      "Number of function evaluations: [800 800 800]\n",
      "Time: 1.600, best current energy: [0.02047373 0.01031921 0.0232467 ]\n",
      "Number of function evaluations: [850 850 850]\n",
      "Time: 1.700, best current energy: [0.02047373 0.01031921 0.01744631]\n",
      "Number of function evaluations: [900 900 900]\n",
      "Time: 1.800, best current energy: [0.02047373 0.01031921 0.01744631]\n",
      "Number of function evaluations: [950 950 950]\n",
      "Time: 1.900, best current energy: [0.02047373 0.01031921 0.01188648]\n",
      "Number of function evaluations: [1000 1000 1000]\n",
      "Time: 2.000, best current energy: [0.01478393 0.01031921 0.00901046]\n",
      "Number of function evaluations: [1050 1050 1050]\n",
      "Time: 2.100, best current energy: [0.01268804 0.01031921 0.00901046]\n",
      "Number of function evaluations: [1100 1100 1100]\n",
      "Time: 2.200, best current energy: [0.01268804 0.00754906 0.00901046]\n",
      "Number of function evaluations: [1150 1150 1150]\n",
      "Time: 2.300, best current energy: [0.01268804 0.00754906 0.00901046]\n",
      "Number of function evaluations: [1200 1200 1200]\n",
      "Time: 2.400, best current energy: [0.01268804 0.00754906 0.00901046]\n",
      "Number of function evaluations: [1250 1250 1250]\n",
      "Time: 2.500, best current energy: [0.00920684 0.00754906 0.00786027]\n",
      "Number of function evaluations: [1300 1300 1300]\n",
      "Time: 2.600, best current energy: [0.00920684 0.00754906 0.00786027]\n",
      "Number of function evaluations: [1350 1350 1350]\n",
      "Time: 2.700, best current energy: [0.00072424 0.00754906 0.00112106]\n",
      "Number of function evaluations: [1400 1400 1400]\n",
      "Time: 2.800, best current energy: [0.00072424 0.00309405 0.00112106]\n",
      "Number of function evaluations: [1450 1450 1450]\n",
      "Time: 2.900, best current energy: [0.00072424 0.00309405 0.00112106]\n",
      "Number of function evaluations: [1500 1500 1500]\n",
      "Time: 3.000, best current energy: [0.00072424 0.00309405 0.00112106]\n",
      "Number of function evaluations: [1550 1550 1550]\n",
      "Time: 3.100, best current energy: [0.00072424 0.00309404 0.00112106]\n",
      "Number of function evaluations: [1600 1600 1600]\n",
      "Time: 3.200, best current energy: [0.00072424 0.00191814 0.00112106]\n",
      "Number of function evaluations: [1650 1650 1650]\n",
      "Time: 3.300, best current energy: [0.00072424 0.00191814 0.00086526]\n",
      "Number of function evaluations: [1700 1700 1700]\n",
      "Time: 3.400, best current energy: [0.00010363 0.0018324  0.00011356]\n",
      "Number of function evaluations: [1750 1750 1750]\n",
      "Time: 3.500, best current energy: [0.00010363 0.0006647  0.00011356]\n",
      "Number of function evaluations: [1800 1800 1800]\n",
      "Time: 3.600, best current energy: [8.12476786e-05 2.92555934e-04 1.13561747e-04]\n",
      "Number of function evaluations: [1850 1850 1850]\n",
      "Time: 3.700, best current energy: [8.96742810e-05 2.70658790e-04 1.13561731e-04]\n",
      "Number of function evaluations: [1900 1900 1900]\n",
      "Time: 3.800, best current energy: [6.17479988e-05 5.20747623e-05 1.13561731e-04]\n",
      "Number of function evaluations: [1950 1950 1950]\n",
      "Time: 3.900, best current energy: [5.62691865e-05 5.20747623e-05 1.13561731e-04]\n",
      "Number of function evaluations: [2000 2000 2000]\n",
      "Time: 4.000, best current energy: [4.65910362e-05 5.20747609e-05 2.51683582e-05]\n",
      "Number of function evaluations: [2050 2050 2050]\n",
      "Time: 4.100, best current energy: [4.05202312e-05 5.20747623e-05 2.51666917e-05]\n",
      "Number of function evaluations: [2100 2100 2100]\n",
      "Time: 4.200, best current energy: [3.86267051e-05 5.09361264e-05 2.51611376e-05]\n",
      "Number of function evaluations: [2150 2150 2150]\n",
      "Time: 4.300, best current energy: [3.39757519e-05 1.77353676e-05 2.59537793e-05]\n",
      "Number of function evaluations: [2200 2200 2200]\n",
      "Time: 4.400, best current energy: [2.68022874e-05 1.80955732e-05 2.59953484e-05]\n",
      "Number of function evaluations: [2250 2250 2250]\n",
      "Time: 4.500, best current energy: [3.04773511e-05 1.69605955e-05 2.61195738e-05]\n",
      "Number of function evaluations: [2300 2300 2300]\n",
      "Time: 4.600, best current energy: [2.86965318e-05 1.72779022e-05 2.67867838e-05]\n",
      "Number of function evaluations: [2350 2350 2350]\n",
      "Time: 4.700, best current energy: [2.85352326e-05 5.68392079e-06 2.65628031e-05]\n",
      "Number of function evaluations: [2400 2400 2400]\n",
      "Time: 4.800, best current energy: [2.84523973e-05 6.56400801e-06 2.67841861e-05]\n",
      "Number of function evaluations: [2450 2450 2450]\n",
      "Time: 4.900, best current energy: [2.85281377e-05 6.88475890e-06 2.75483593e-05]\n",
      "Number of function evaluations: [2500 2500 2500]\n",
      "Time: 5.000, best current energy: [2.53717772e-05 5.42405198e-06 9.87119088e-06]\n",
      "Number of function evaluations: [2550 2550 2550]\n",
      "--------------------\n",
      "Finished solver.\n",
      "Best energy: [2.53717772e-05 5.42405198e-06 9.87119088e-06]\n",
      "--------------------\n"
     ]
    },
    {
     "data": {
      "text/plain": [
       "array([[ 0.00048745,  0.00013478],\n",
       "       [-0.00020819,  0.00010648],\n",
       "       [-0.00022156, -0.00022455]])"
      ]
     },
     "execution_count": 58,
     "metadata": {},
     "output_type": "execute_result"
    }
   ],
   "source": [
    "dyn.optimize(sched=sched)"
   ]
  },
  {
   "cell_type": "code",
   "execution_count": 59,
   "id": "6a1062eb-1b81-4e79-b9a0-b5a3ddcc631b",
   "metadata": {},
   "outputs": [
    {
     "data": {
      "text/plain": [
       "array([[99998.47412109],\n",
       "       [99998.47412109],\n",
       "       [99998.47412109]])"
      ]
     },
     "execution_count": 59,
     "metadata": {},
     "output_type": "execute_result"
    }
   ],
   "source": [
    "dyn.alpha"
   ]
  },
  {
   "cell_type": "code",
   "execution_count": null,
   "id": "d6cc788c-35ee-4698-a7f7-f10900386f6c",
   "metadata": {},
   "outputs": [],
   "source": []
  }
 ],
 "metadata": {
  "kernelspec": {
   "display_name": "SuperApp (py3.11)",
   "language": "python",
   "name": "superapp"
  },
  "language_info": {
   "codemirror_mode": {
    "name": "ipython",
    "version": 3
   },
   "file_extension": ".py",
   "mimetype": "text/x-python",
   "name": "python",
   "nbconvert_exporter": "python",
   "pygments_lexer": "ipython3",
   "version": "3.8.18"
  }
 },
 "nbformat": 4,
 "nbformat_minor": 5
}
