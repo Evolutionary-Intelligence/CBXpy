{
 "cells": [
  {
   "cell_type": "code",
   "execution_count": 1,
   "id": "d0af71a6-7c39-4ac2-88e1-15bdc1fe9022",
   "metadata": {},
   "outputs": [],
   "source": [
    "%load_ext autoreload\n",
    "%autoreload 2\n",
    "import numpy as np\n",
    "import cbx as cbx\n",
    "from cbx.dynamics import CBO\n",
    "from cbx.objectives import Rastrigin\n",
    "import cbx.utils.termination as term\n",
    "from cbx.scheduler import effective_sample_size\n",
    "from cbx.plotting import plot_dynamic, plot_dynamic_history\n",
    "import matplotlib.pyplot as plt"
   ]
  },
  {
   "cell_type": "markdown",
   "id": "246b871a-bf02-4dd5-961c-60e7dbabcf03",
   "metadata": {},
   "source": [
    "# Define the parameters"
   ]
  },
  {
   "cell_type": "code",
   "execution_count": 2,
   "id": "3b24dcf3-d293-4921-a261-0e11d0292d27",
   "metadata": {},
   "outputs": [],
   "source": [
    "conf = {'alpha': 40.0,\n",
    "        'dt': 0.1,\n",
    "        'sigma': 1.,\n",
    "        'lamda': 1.0,\n",
    "        'batch_args':{\n",
    "        'batch_size':200,\n",
    "        'batch_partial': False},\n",
    "        'd': 2,\n",
    "        'term_criteria':[term.max_it_term(50)],\n",
    "        'N': 50,\n",
    "        'M': 3,\n",
    "        'track_args': {'names':\n",
    "                       ['update_norm', \n",
    "                        'energy','x', \n",
    "                        'consensus', \n",
    "                        'drift']},}"
   ]
  },
  {
   "cell_type": "markdown",
   "id": "b046058e-7ff3-454d-be0b-60dba7695bcc",
   "metadata": {},
   "source": [
    "# Define the initial positions of the particles and objective function"
   ]
  },
  {
   "cell_type": "code",
   "execution_count": 3,
   "id": "00e42335-26ef-414b-8d77-31508992339e",
   "metadata": {},
   "outputs": [],
   "source": [
    "x = cbx.utils.init_particles(shape=(conf['M'], conf['N'], conf['d']), x_min=-2., x_max = 1.)\n",
    "f = Rastrigin()"
   ]
  },
  {
   "cell_type": "markdown",
   "id": "77e1cb2e-d826-46a8-8af6-052557ccd8e9",
   "metadata": {},
   "source": [
    "# Define the dynamic and scheduler"
   ]
  },
  {
   "cell_type": "code",
   "execution_count": 5,
   "id": "f702e23d-7e47-45bd-a467-9e606161c6e0",
   "metadata": {},
   "outputs": [],
   "source": [
    "dyn = CBO(f, x=x, noise='isotropic', f_dim='3D', \n",
    "          **conf)\n",
    "sched = effective_sample_size(name='alpha', eta = 0.1)"
   ]
  },
  {
   "cell_type": "markdown",
   "id": "a064a8b1-cbb6-4216-b675-afafb7e508bc",
   "metadata": {},
   "source": [
    "# Run the CBO algorithm"
   ]
  },
  {
   "cell_type": "code",
   "execution_count": 6,
   "id": "10a967a8-12c3-40a9-aee1-85a89772b629",
   "metadata": {
    "scrolled": true,
    "tags": []
   },
   "outputs": [
    {
     "name": "stdout",
     "output_type": "stream",
     "text": [
      "....................\n",
      "Starting Optimization with dynamic: CBO\n",
      "....................\n",
      "Time: 0.100, best current energy: [1.19535975 1.0791095  0.38837126]\n",
      "Number of function evaluations: [100 100 100]\n",
      "Time: 0.200, best current energy: [1.19535975 0.36670417 0.38837126]\n",
      "Number of function evaluations: [150 150 150]\n",
      "Time: 0.300, best current energy: [1.19535975 0.36670417 0.38837126]\n",
      "Number of function evaluations: [200 200 200]\n",
      "Time: 0.400, best current energy: [0.04885167 0.36670417 0.38837126]\n",
      "Number of function evaluations: [250 250 250]\n",
      "Time: 0.500, best current energy: [0.04885167 0.36670417 0.38837126]\n",
      "Number of function evaluations: [300 300 300]\n",
      "Time: 0.600, best current energy: [0.04885167 0.18033366 0.38837126]\n",
      "Number of function evaluations: [350 350 350]\n",
      "Time: 0.700, best current energy: [0.04885167 0.02601984 0.01349044]\n",
      "Number of function evaluations: [400 400 400]\n",
      "Time: 0.800, best current energy: [0.04885167 0.02601984 0.01349044]\n",
      "Number of function evaluations: [450 450 450]\n",
      "Time: 0.900, best current energy: [0.04885167 0.02578825 0.01349044]\n",
      "Number of function evaluations: [500 500 500]\n",
      "Time: 1.000, best current energy: [0.04885167 0.02578825 0.01349044]\n",
      "Number of function evaluations: [550 550 550]\n",
      "Time: 1.100, best current energy: [0.04885167 0.01330612 0.01349044]\n",
      "Number of function evaluations: [600 600 600]\n",
      "Time: 1.200, best current energy: [0.0376072  0.00087595 0.00823785]\n",
      "Number of function evaluations: [650 650 650]\n",
      "Time: 1.300, best current energy: [0.0376072  0.00087595 0.00823785]\n",
      "Number of function evaluations: [700 700 700]\n",
      "Time: 1.400, best current energy: [0.0376072  0.00087595 0.00361768]\n",
      "Number of function evaluations: [750 750 750]\n",
      "Time: 1.500, best current energy: [0.01014644 0.00087595 0.00361768]\n",
      "Number of function evaluations: [800 800 800]\n",
      "Time: 1.600, best current energy: [0.01014644 0.00087595 0.00361768]\n",
      "Number of function evaluations: [850 850 850]\n",
      "Time: 1.700, best current energy: [0.00485353 0.00087595 0.00361768]\n",
      "Number of function evaluations: [900 900 900]\n",
      "Time: 1.800, best current energy: [0.0010159  0.00087595 0.00318097]\n",
      "Number of function evaluations: [950 950 950]\n",
      "Time: 1.900, best current energy: [0.00087111 0.00087595 0.00250548]\n",
      "Number of function evaluations: [1000 1000 1000]\n",
      "Time: 2.000, best current energy: [0.00080409 0.00087595 0.00250548]\n",
      "Number of function evaluations: [1050 1050 1050]\n",
      "Time: 2.100, best current energy: [0.00080393 0.00031867 0.00234911]\n",
      "Number of function evaluations: [1100 1100 1100]\n",
      "Time: 2.200, best current energy: [0.00015313 0.00031867 0.00234911]\n",
      "Number of function evaluations: [1150 1150 1150]\n",
      "Time: 2.300, best current energy: [0.00015313 0.00031867 0.00234911]\n",
      "Number of function evaluations: [1200 1200 1200]\n",
      "Time: 2.400, best current energy: [0.00015313 0.00031867 0.00100171]\n",
      "Number of function evaluations: [1250 1250 1250]\n",
      "Time: 2.500, best current energy: [0.00010094 0.00031867 0.00100171]\n",
      "Number of function evaluations: [1300 1300 1300]\n",
      "Time: 2.600, best current energy: [0.00010093 0.0003193  0.00080869]\n",
      "Number of function evaluations: [1350 1350 1350]\n",
      "Time: 2.700, best current energy: [0.00010093 0.00024921 0.00080869]\n",
      "Number of function evaluations: [1400 1400 1400]\n",
      "Time: 2.800, best current energy: [9.48429277e-05 1.31559911e-04 7.79793678e-04]\n",
      "Number of function evaluations: [1450 1450 1450]\n",
      "Time: 2.900, best current energy: [6.57212822e-05 1.19922878e-04 6.64809746e-04]\n",
      "Number of function evaluations: [1500 1500 1500]\n",
      "Time: 3.000, best current energy: [6.57213329e-05 2.73319240e-05 2.48572088e-04]\n",
      "Number of function evaluations: [1550 1550 1550]\n",
      "Time: 3.100, best current energy: [6.58409803e-05 2.75016658e-05 1.55348263e-04]\n",
      "Number of function evaluations: [1600 1600 1600]\n",
      "Time: 3.200, best current energy: [1.21836277e-05 2.60566277e-05 5.23655740e-05]\n",
      "Number of function evaluations: [1650 1650 1650]\n",
      "Time: 3.300, best current energy: [1.21069819e-05 1.05132728e-05 5.23615973e-05]\n",
      "Number of function evaluations: [1700 1700 1700]\n",
      "Time: 3.400, best current energy: [1.20858692e-05 1.14103854e-05 5.23616652e-05]\n",
      "Number of function evaluations: [1750 1750 1750]\n",
      "Time: 3.500, best current energy: [1.22454710e-05 1.22093425e-05 5.23616210e-05]\n",
      "Number of function evaluations: [1800 1800 1800]\n",
      "Time: 3.600, best current energy: [1.24288031e-05 8.38501319e-06 5.23616209e-05]\n",
      "Number of function evaluations: [1850 1850 1850]\n",
      "Time: 3.700, best current energy: [1.24216468e-05 8.38531968e-06 5.23616209e-05]\n",
      "Number of function evaluations: [1900 1900 1900]\n",
      "Time: 3.800, best current energy: [1.15356507e-05 7.00669396e-06 5.23616293e-05]\n",
      "Number of function evaluations: [1950 1950 1950]\n",
      "Time: 3.900, best current energy: [1.37427898e-05 7.02612669e-06 5.23616304e-05]\n",
      "Number of function evaluations: [2000 2000 2000]\n",
      "Time: 4.000, best current energy: [1.50004669e-05 6.72621154e-06 4.65679184e-05]\n",
      "Number of function evaluations: [2050 2050 2050]\n",
      "Time: 4.100, best current energy: [1.56659192e-05 6.20191842e-06 3.60422804e-05]\n",
      "Number of function evaluations: [2100 2100 2100]\n",
      "Time: 4.200, best current energy: [1.38115715e-05 1.44860273e-06 3.77313247e-05]\n",
      "Number of function evaluations: [2150 2150 2150]\n",
      "Time: 4.300, best current energy: [7.88016680e-06 1.36748126e-06 3.51831166e-05]\n",
      "Number of function evaluations: [2200 2200 2200]\n",
      "Time: 4.400, best current energy: [8.66325862e-06 1.42996121e-05 3.11640393e-05]\n",
      "Number of function evaluations: [2250 2250 2250]\n",
      "Time: 4.500, best current energy: [4.52587125e-05 1.58972063e-05 1.24454872e-05]\n",
      "Number of function evaluations: [2300 2300 2300]\n",
      "Time: 4.600, best current energy: [5.64226143e-06 1.58973454e-05 1.57071252e-05]\n",
      "Number of function evaluations: [2350 2350 2350]\n",
      "Time: 4.700, best current energy: [7.30379900e-06 3.53446166e-06 4.07017203e-06]\n",
      "Number of function evaluations: [2400 2400 2400]\n",
      "Time: 4.800, best current energy: [2.77962477e-06 2.22255953e-06 3.77961347e-06]\n",
      "Number of function evaluations: [2450 2450 2450]\n",
      "Time: 4.900, best current energy: [1.45097512e-06 1.39702619e-06 4.94540406e-06]\n",
      "Number of function evaluations: [2500 2500 2500]\n",
      "Time: 5.000, best current energy: [1.26684961e-06 1.64456149e-06 5.41817718e-06]\n",
      "Number of function evaluations: [2550 2550 2550]\n",
      "--------------------\n",
      "Finished solver.\n",
      "Best energy: [1.26684961e-06 1.36748126e-06 3.77961347e-06]\n",
      "--------------------\n"
     ]
    },
    {
     "data": {
      "text/plain": [
       "array([[ 1.10962572e-04,  2.14121174e-05],\n",
       "       [ 1.57898740e-05,  1.16345707e-04],\n",
       "       [ 1.04366551e-04, -1.64954804e-04]])"
      ]
     },
     "execution_count": 6,
     "metadata": {},
     "output_type": "execute_result"
    }
   ],
   "source": [
    "dyn.optimize(sched=sched)"
   ]
  },
  {
   "cell_type": "code",
   "execution_count": 69,
   "id": "6a1062eb-1b81-4e79-b9a0-b5a3ddcc631b",
   "metadata": {},
   "outputs": [
    {
     "data": {
      "text/plain": [
       "array([0.0003638 , 0.0007276 , 0.00145519])"
      ]
     },
     "execution_count": 69,
     "metadata": {},
     "output_type": "execute_result"
    }
   ],
   "source": [
    "cbx.scheduler.bisection_solve(gap, 0*np.ones(3,), 100000000*np.ones(3,))"
   ]
  },
  {
   "cell_type": "code",
   "execution_count": 65,
   "id": "9ef02655-0ba3-4493-bb04-b910af3c9c1f",
   "metadata": {},
   "outputs": [
    {
     "data": {
      "text/plain": [
       "array([-22.32466366, -22.10736272, -19.85043089])"
      ]
     },
     "execution_count": 65,
     "metadata": {},
     "output_type": "execute_result"
    }
   ],
   "source": [
    "gap(100000*np.ones(3,))"
   ]
  },
  {
   "cell_type": "code",
   "execution_count": 67,
   "id": "d6cc788c-35ee-4698-a7f7-f10900386f6c",
   "metadata": {},
   "outputs": [
    {
     "data": {
      "text/plain": [
       "[<matplotlib.lines.Line2D at 0x2acdb9bf5340>]"
      ]
     },
     "execution_count": 67,
     "metadata": {},
     "output_type": "execute_result"
    },
    {
     "data": {
      "image/png": "[encoded data removed]",
      "text/plain": [
       "<Figure size 640x480 with 1 Axes>"
      ]
     },
     "metadata": {},
     "output_type": "display_data"
    }
   ],
   "source": [
    "gap = cbx.scheduler.eff_sample_size_gap(dyn.energy, 1.)\n",
    "b = []\n",
    "g = np.linspace(0,1000)\n",
    "for a in g:\n",
    "    b.append(gap(np.ones(3,)*a)[0])\n",
    "plt.plot(g,b)"
   ]
  },
  {
   "cell_type": "code",
   "execution_count": 23,
   "id": "0210378e-6108-446a-a881-d991b5ef6bfd",
   "metadata": {},
   "outputs": [
    {
     "data": {
      "text/plain": [
       "[<matplotlib.lines.Line2D at 0x2acdb974e220>]"
      ]
     },
     "execution_count": 23,
     "metadata": {},
     "output_type": "execute_result"
    },
    {
     "data": {
      "image/png": "[encoded data removed]",
      "text/plain": [
       "<Figure size 640x480 with 1 Axes>"
      ]
     },
     "metadata": {},
     "output_type": "display_data"
    }
   ],
   "source": []
  },
  {
   "cell_type": "code",
   "execution_count": null,
   "id": "dfceaba9-1687-4073-b02a-4c07c96bf4f8",
   "metadata": {},
   "outputs": [],
   "source": []
  }
 ],
 "metadata": {
  "kernelspec": {
   "display_name": "SuperApp (py3.11)",
   "language": "python",
   "name": "superapp"
  },
  "language_info": {
   "codemirror_mode": {
    "name": "ipython",
    "version": 3
   },
   "file_extension": ".py",
   "mimetype": "text/x-python",
   "name": "python",
   "nbconvert_exporter": "python",
   "pygments_lexer": "ipython3",
   "version": "3.8.18"
  }
 },
 "nbformat": 4,
 "nbformat_minor": 5
}
