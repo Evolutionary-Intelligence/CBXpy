{
 "cells": [
  {
   "cell_type": "code",
   "execution_count": 1,
   "id": "1b37649d-ae72-49dc-855e-5109b13d9433",
   "metadata": {},
   "outputs": [],
   "source": [
    "%load_ext autoreload\n",
    "%autoreload 2\n",
    "import cbx as cbx\n",
    "from cbx.dynamics.cbo import CBO\n",
    "import numpy as np\n",
    "\n",
    "import torch\n",
    "import torch.nn as nn\n",
    "import torchvision\n",
    "from cbx.noise import anisotropic_noise"
   ]
  },
  {
   "cell_type": "markdown",
   "id": "f5f8845e-7351-4304-9494-dbd4bff98df3",
   "metadata": {},
   "source": [
    "# Load data\n",
    "We load the train and test data."
   ]
  },
  {
   "cell_type": "code",
   "execution_count": 2,
   "id": "97fe038d-11a6-4114-bd6a-a09e83a96c7c",
   "metadata": {},
   "outputs": [],
   "source": [
    "data_path = \"../../../datasets/\"\n",
    "transform = torchvision.transforms.ToTensor()\n",
    "train_data = torchvision.datasets.MNIST(data_path, train=True, transform=transform, download=False)\n",
    "test_data = torchvision.datasets.MNIST(data_path, train=False, transform=transform, download=False)\n",
    "train_loader = torch.utils.data.DataLoader(train_data, batch_size=64,shuffle=True, num_workers=0)\n",
    "test_loader = torch.utils.data.DataLoader(test_data, batch_size=64,shuffle=False, num_workers=0)"
   ]
  },
  {
   "cell_type": "markdown",
   "id": "127251c4-4e88-48ae-abf0-800604ef8a25",
   "metadata": {},
   "source": [
    "# Load model"
   ]
  },
  {
   "cell_type": "code",
   "execution_count": 3,
   "id": "705a76af-42bb-4ca6-9f8c-f1f6d9dbad6a",
   "metadata": {},
   "outputs": [],
   "source": [
    "from models import Perceptron\n",
    "from cbx_torch_utils import flatten_parameters, get_param_properties, eval_losses, norm_torch, compute_consensus_torch, normal_torch, eval_acc\n",
    "device = 'cuda' if torch.cuda.is_available() else 'cpu'\n",
    "N = 50\n",
    "models = [Perceptron(sizes=[784,100,10]) for _ in range(N)]\n",
    "model = models[0]\n",
    "pnames = [p[0] for p in model.named_parameters()]\n",
    "w = flatten_parameters(models, pnames).to(device)\n",
    "pprop = get_param_properties(models, pnames=pnames)"
   ]
  },
  {
   "cell_type": "code",
   "execution_count": 4,
   "id": "cac7a15f-8445-4eb3-ad00-bfdd15e201d8",
   "metadata": {},
   "outputs": [],
   "source": [
    "class objective:\n",
    "    def __init__(self, train_loader, N, device, model, pprop):\n",
    "        self.train_loader = train_loader\n",
    "        self.data_iter = iter(train_loader)\n",
    "        self.N = N\n",
    "        self.epochs = 0\n",
    "        self.device = device   \n",
    "        self.loss_fct = nn.CrossEntropyLoss()\n",
    "        self.model = model\n",
    "        self.pprop = pprop\n",
    "        self.set_batch()\n",
    "        \n",
    "    def __call__(self, w):   \n",
    "        return eval_losses(self.x, self.y, self.loss_fct, self.model, w[0,...], self.pprop)\n",
    "    \n",
    "    def set_batch(self,):\n",
    "        (x,y) = next(self.data_iter, (None, None))\n",
    "        if x is None:\n",
    "            self.data_iter = iter(self.train_loader)\n",
    "            (x,y) = next(self.data_iter)\n",
    "            self.epochs += 1\n",
    "        self.x = x.to(self.device)\n",
    "        self.y = y.to(self.device)"
   ]
  },
  {
   "cell_type": "markdown",
   "id": "8a3d7abe-c445-4c23-9efe-9fcb2830d856",
   "metadata": {},
   "source": [
    "# Set up CBX Dynamic"
   ]
  },
  {
   "cell_type": "code",
   "execution_count": 5,
   "id": "b40c7cf2-4295-4bf3-8328-e47ba7ba16d5",
   "metadata": {},
   "outputs": [],
   "source": [
    "kwargs = {'alpha':50.0,\n",
    "        'dt': 0.1,\n",
    "        'sigma': 0.1,\n",
    "        'lamda': 1.0,\n",
    "        'term_args':{'max_time': 20},\n",
    "        'verbosity':0,\n",
    "        'batch_args':{'batch_size':N},\n",
    "        #'batch_size': M,\n",
    "        'check_f_dims':False}"
   ]
  },
  {
   "cell_type": "code",
   "execution_count": 6,
   "id": "9e32f6f7-7937-4ceb-a043-93eb8e85f9b1",
   "metadata": {},
   "outputs": [],
   "source": [
    "f = objective(train_loader, N, device, model, pprop)\n",
    "resamplings = [cbx.utils.resampling.loss_update_resampling(M=1, wait_thresh=40)]\n",
    "noise = anisotropic_noise(norm = norm_torch, sampler = normal_torch(device))\n",
    "dyn = CBO(f, f_dim='3D', x=w[None,...], noise=noise, \n",
    "          resamplings=resamplings, \n",
    "          norm=norm_torch,\n",
    "          copy=torch.clone,\n",
    "          normal=normal_torch(device),\n",
    "          compute_consensus=compute_consensus_torch,\n",
    "          post_process = lambda *args: None,\n",
    "          **kwargs)\n",
    "sched = cbx.scheduler.multiply(factor=1.03, name='alpha')"
   ]
  },
  {
   "cell_type": "markdown",
   "id": "8e59d1f1-c8b7-4d97-b8f5-32d41658495f",
   "metadata": {},
   "source": [
    "# Train the network"
   ]
  },
  {
   "cell_type": "code",
   "execution_count": null,
   "id": "7ed4c926-f239-42b0-93c2-fcf48171adaa",
   "metadata": {
    "scrolled": true,
    "tags": []
   },
   "outputs": [],
   "source": [
    "e = 0\n",
    "while f.epochs < 10:\n",
    "    dyn.step()\n",
    "    sched.update(dyn)\n",
    "    f.set_batch()\n",
    "    if e != f.epochs:\n",
    "        e = f.epochs\n",
    "        print(30*'-')\n",
    "        print('Epoch: ' +str(f.epochs))\n",
    "        acc = eval_acc(model, dyn.best_particle[0,...], pprop, test_loader)\n",
    "        print('Accuracy: ' + str(acc.item()))\n",
    "        print(30*'-')"
   ]
  },
  {
   "cell_type": "code",
   "execution_count": null,
   "id": "683a67e7-745f-4ada-afee-7421c0921aaf",
   "metadata": {},
   "outputs": [],
   "source": []
  }
 ],
 "metadata": {
  "kernelspec": {
   "display_name": "SuperApp (py3.11)",
   "language": "python",
   "name": "superapp"
  },
  "language_info": {
   "codemirror_mode": {
    "name": "ipython",
    "version": 3
   },
   "file_extension": ".py",
   "mimetype": "text/x-python",
   "name": "python",
   "nbconvert_exporter": "python",
   "pygments_lexer": "ipython3",
   "version": "3.8.18"
  }
 },
 "nbformat": 4,
 "nbformat_minor": 5
}
