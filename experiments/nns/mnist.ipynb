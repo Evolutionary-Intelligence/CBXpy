{
 "cells": [
  {
   "cell_type": "code",
   "execution_count": 1,
   "id": "1b37649d-ae72-49dc-855e-5109b13d9433",
   "metadata": {},
   "outputs": [],
   "source": [
    "%load_ext autoreload\n",
    "%autoreload 2\n",
    "import cbx as cbx\n",
    "from cbx.dynamics.cbo import CBO\n",
    "import numpy as np\n",
    "\n",
    "import torch\n",
    "import torch.nn as nn\n",
    "import torchvision\n",
    "from cbx.noise import anisotropic_noise\n",
    "import cbx.utils.resampling as rsmp"
   ]
  },
  {
   "cell_type": "markdown",
   "id": "f5f8845e-7351-4304-9494-dbd4bff98df3",
   "metadata": {},
   "source": [
    "# Load data\n",
    "We load the train and test data."
   ]
  },
  {
   "cell_type": "code",
   "execution_count": 2,
   "id": "97fe038d-11a6-4114-bd6a-a09e83a96c7c",
   "metadata": {},
   "outputs": [],
   "source": [
    "data_path = \"../../../datasets/\"\n",
    "transform = torchvision.transforms.ToTensor()\n",
    "train_data = torchvision.datasets.MNIST(data_path, train=True, transform=transform, download=False)\n",
    "test_data = torchvision.datasets.MNIST(data_path, train=False, transform=transform, download=False)\n",
    "train_loader = torch.utils.data.DataLoader(train_data, batch_size=64,shuffle=True, num_workers=0)\n",
    "test_loader = torch.utils.data.DataLoader(test_data, batch_size=64,shuffle=False, num_workers=0)"
   ]
  },
  {
   "cell_type": "markdown",
   "id": "127251c4-4e88-48ae-abf0-800604ef8a25",
   "metadata": {},
   "source": [
    "# Load model"
   ]
  },
  {
   "cell_type": "code",
   "execution_count": 3,
   "id": "705a76af-42bb-4ca6-9f8c-f1f6d9dbad6a",
   "metadata": {},
   "outputs": [],
   "source": [
    "from models import Perceptron\n",
    "from cbx_torch_utils import flatten_parameters, get_param_properties, eval_losses, norm_torch, compute_consensus_torch, normal_torch, eval_acc\n",
    "device = 'cuda' if torch.cuda.is_available() else 'cpu'\n",
    "N = 50\n",
    "models = [Perceptron(sizes=[784,100,10]) for _ in range(N)]\n",
    "model = models[0]\n",
    "pnames = [p[0] for p in model.named_parameters()]\n",
    "w = flatten_parameters(models, pnames).to(device)\n",
    "pprop = get_param_properties(models, pnames=pnames)"
   ]
  },
  {
   "cell_type": "code",
   "execution_count": 4,
   "id": "cac7a15f-8445-4eb3-ad00-bfdd15e201d8",
   "metadata": {},
   "outputs": [],
   "source": [
    "class objective:\n",
    "    def __init__(self, train_loader, N, device, model, pprop):\n",
    "        self.train_loader = train_loader\n",
    "        self.data_iter = iter(train_loader)\n",
    "        self.N = N\n",
    "        self.epochs = 0\n",
    "        self.device = device   \n",
    "        self.loss_fct = nn.CrossEntropyLoss()\n",
    "        self.model = model\n",
    "        self.pprop = pprop\n",
    "        self.set_batch()\n",
    "        \n",
    "    def __call__(self, w):   \n",
    "        return eval_losses(self.x, self.y, self.loss_fct, self.model, w[0,...], self.pprop)\n",
    "    \n",
    "    def set_batch(self,):\n",
    "        (x,y) = next(self.data_iter, (None, None))\n",
    "        if x is None:\n",
    "            self.data_iter = iter(self.train_loader)\n",
    "            (x,y) = next(self.data_iter)\n",
    "            self.epochs += 1\n",
    "        self.x = x.to(self.device)\n",
    "        self.y = y.to(self.device)"
   ]
  },
  {
   "cell_type": "markdown",
   "id": "8a3d7abe-c445-4c23-9efe-9fcb2830d856",
   "metadata": {},
   "source": [
    "# Set up CBX Dynamic"
   ]
  },
  {
   "cell_type": "code",
   "execution_count": 5,
   "id": "b40c7cf2-4295-4bf3-8328-e47ba7ba16d5",
   "metadata": {},
   "outputs": [],
   "source": [
    "kwargs = {'alpha':50.0,\n",
    "        'dt': 0.1,\n",
    "        'sigma': 0.1,\n",
    "        'lamda': 1.0,\n",
    "        'term_args':{'max_time': 20},\n",
    "        'verbosity':0,\n",
    "        'batch_args':{'batch_size':N},\n",
    "        #'batch_size': M,\n",
    "        'check_f_dims':False}"
   ]
  },
  {
   "cell_type": "code",
   "execution_count": 6,
   "id": "9e32f6f7-7937-4ceb-a043-93eb8e85f9b1",
   "metadata": {},
   "outputs": [],
   "source": [
    "f = objective(train_loader, N, device, model, pprop)\n",
    "resampling =  rsmp.resampling([rsmp.loss_update_resampling(M=1, wait_thresh=40)], 1)\n",
    "noise = anisotropic_noise(norm = norm_torch, sampler = normal_torch(device))\n",
    "\n",
    "dyn = CBO(f, f_dim='3D', x=w[None,...], noise=noise,\n",
    "          norm=norm_torch,\n",
    "          copy=torch.clone,\n",
    "          normal=normal_torch(device),\n",
    "          compute_consensus=compute_consensus_torch,\n",
    "          post_process = lambda dyn: resampling(dyn),\n",
    "          **kwargs)\n",
    "sched = cbx.scheduler.multiply(factor=1.03, name='alpha')"
   ]
  },
  {
   "cell_type": "markdown",
   "id": "8e59d1f1-c8b7-4d97-b8f5-32d41658495f",
   "metadata": {
    "tags": []
   },
   "source": [
    "# Train the network"
   ]
  },
  {
   "cell_type": "code",
   "execution_count": 7,
   "id": "7ed4c926-f239-42b0-93c2-fcf48171adaa",
   "metadata": {
    "scrolled": true,
    "tags": []
   },
   "outputs": [
    {
     "name": "stdout",
     "output_type": "stream",
     "text": [
      "------------------------------\n",
      "Epoch: 1\n",
      "Accuracy: 0.4997999966144562\n",
      "------------------------------\n"
     ]
    },
    {
     "ename": "KeyboardInterrupt",
     "evalue": "",
     "output_type": "error",
     "traceback": [
      "\u001b[0;31m---------------------------------------------------------------------------\u001b[0m",
      "\u001b[0;31mKeyboardInterrupt\u001b[0m                         Traceback (most recent call last)",
      "Cell \u001b[0;32mIn[7], line 3\u001b[0m\n\u001b[1;32m      1\u001b[0m e \u001b[38;5;241m=\u001b[39m \u001b[38;5;241m0\u001b[39m\n\u001b[1;32m      2\u001b[0m \u001b[38;5;28;01mwhile\u001b[39;00m f\u001b[38;5;241m.\u001b[39mepochs \u001b[38;5;241m<\u001b[39m \u001b[38;5;241m10\u001b[39m:\n\u001b[0;32m----> 3\u001b[0m     \u001b[43mdyn\u001b[49m\u001b[38;5;241;43m.\u001b[39;49m\u001b[43mstep\u001b[49m\u001b[43m(\u001b[49m\u001b[43m)\u001b[49m\n\u001b[1;32m      4\u001b[0m     sched\u001b[38;5;241m.\u001b[39mupdate(dyn)\n\u001b[1;32m      5\u001b[0m     f\u001b[38;5;241m.\u001b[39mset_batch()\n",
      "File \u001b[0;32m~/Documents/CBXpy/cbx/dynamics/pdyn.py:292\u001b[0m, in \u001b[0;36mParticleDynamic.step\u001b[0;34m(self)\u001b[0m\n\u001b[1;32m    277\u001b[0m \u001b[38;5;250m\u001b[39m\u001b[38;5;124;03m\"\"\"\u001b[39;00m\n\u001b[1;32m    278\u001b[0m \u001b[38;5;124;03mExecute a step in the dynamic.\u001b[39;00m\n\u001b[1;32m    279\u001b[0m \n\u001b[0;32m   (...)\u001b[0m\n\u001b[1;32m    289\u001b[0m \u001b[38;5;124;03m    None\u001b[39;00m\n\u001b[1;32m    290\u001b[0m \u001b[38;5;124;03m\"\"\"\u001b[39;00m\n\u001b[1;32m    291\u001b[0m \u001b[38;5;28mself\u001b[39m\u001b[38;5;241m.\u001b[39mpre_step()\n\u001b[0;32m--> 292\u001b[0m \u001b[38;5;28;43mself\u001b[39;49m\u001b[38;5;241;43m.\u001b[39;49m\u001b[43minner_step\u001b[49m\u001b[43m(\u001b[49m\u001b[43m)\u001b[49m\n\u001b[1;32m    293\u001b[0m \u001b[38;5;28mself\u001b[39m\u001b[38;5;241m.\u001b[39mpost_step()\n",
      "File \u001b[0;32m~/Documents/CBXpy/cbx/dynamics/cbo.py:57\u001b[0m, in \u001b[0;36mCBO.inner_step\u001b[0;34m(self)\u001b[0m\n\u001b[1;32m     54\u001b[0m \u001b[38;5;28mself\u001b[39m\u001b[38;5;241m.\u001b[39menergy[\u001b[38;5;28mself\u001b[39m\u001b[38;5;241m.\u001b[39mconsensus_idx] \u001b[38;5;241m=\u001b[39m energy\n\u001b[1;32m     56\u001b[0m \u001b[38;5;66;03m# compute noise\u001b[39;00m\n\u001b[0;32m---> 57\u001b[0m \u001b[38;5;28mself\u001b[39m\u001b[38;5;241m.\u001b[39ms \u001b[38;5;241m=\u001b[39m \u001b[38;5;28mself\u001b[39m\u001b[38;5;241m.\u001b[39msigma \u001b[38;5;241m*\u001b[39m \u001b[38;5;28;43mself\u001b[39;49m\u001b[38;5;241;43m.\u001b[39;49m\u001b[43mnoise\u001b[49m\u001b[43m(\u001b[49m\u001b[43m)\u001b[49m\n\u001b[1;32m     59\u001b[0m \u001b[38;5;66;03m#  update particle positions\u001b[39;00m\n\u001b[1;32m     60\u001b[0m \u001b[38;5;28mself\u001b[39m\u001b[38;5;241m.\u001b[39mx[\u001b[38;5;28mself\u001b[39m\u001b[38;5;241m.\u001b[39mparticle_idx] \u001b[38;5;241m=\u001b[39m (\n\u001b[1;32m     61\u001b[0m     \u001b[38;5;28mself\u001b[39m\u001b[38;5;241m.\u001b[39mx[\u001b[38;5;28mself\u001b[39m\u001b[38;5;241m.\u001b[39mparticle_idx] \u001b[38;5;241m-\u001b[39m\n\u001b[1;32m     62\u001b[0m     \u001b[38;5;28mself\u001b[39m\u001b[38;5;241m.\u001b[39mcorrection(\u001b[38;5;28mself\u001b[39m\u001b[38;5;241m.\u001b[39mlamda \u001b[38;5;241m*\u001b[39m \u001b[38;5;28mself\u001b[39m\u001b[38;5;241m.\u001b[39mdt \u001b[38;5;241m*\u001b[39m \u001b[38;5;28mself\u001b[39m\u001b[38;5;241m.\u001b[39mdrift) \u001b[38;5;241m+\u001b[39m\n\u001b[1;32m     63\u001b[0m     \u001b[38;5;28mself\u001b[39m\u001b[38;5;241m.\u001b[39ms)\n",
      "File \u001b[0;32m~/Documents/CBXpy/cbx/dynamics/pdyn.py:790\u001b[0m, in \u001b[0;36mCBXDynamic.noise\u001b[0;34m(self)\u001b[0m\n\u001b[1;32m    779\u001b[0m \u001b[38;5;28;01mdef\u001b[39;00m \u001b[38;5;21mnoise\u001b[39m(\u001b[38;5;28mself\u001b[39m, ) \u001b[38;5;241m-\u001b[39m\u001b[38;5;241m>\u001b[39m ArrayLike:\n\u001b[1;32m    780\u001b[0m \u001b[38;5;250m    \u001b[39m\u001b[38;5;124;03m\"\"\"\u001b[39;00m\n\u001b[1;32m    781\u001b[0m \u001b[38;5;124;03m    Calculate the noise vector. Here, we use the callable ``noise_callable``, which takes the dynamic as an input via ``self``.\u001b[39;00m\n\u001b[1;32m    782\u001b[0m \n\u001b[0;32m   (...)\u001b[0m\n\u001b[1;32m    788\u001b[0m \u001b[38;5;124;03m        ndarray: The noise vector.\u001b[39;00m\n\u001b[1;32m    789\u001b[0m \u001b[38;5;124;03m    \"\"\"\u001b[39;00m\n\u001b[0;32m--> 790\u001b[0m     \u001b[38;5;28;01mreturn\u001b[39;00m \u001b[38;5;28;43mself\u001b[39;49m\u001b[38;5;241;43m.\u001b[39;49m\u001b[43mnoise_callable\u001b[49m\u001b[43m(\u001b[49m\u001b[38;5;28;43mself\u001b[39;49m\u001b[43m)\u001b[49m\n",
      "File \u001b[0;32m~/Documents/CBXpy/cbx/noise.py:133\u001b[0m, in \u001b[0;36manisotropic_noise.__call__\u001b[0;34m(self, dyn)\u001b[0m\n\u001b[1;32m    132\u001b[0m \u001b[38;5;28;01mdef\u001b[39;00m \u001b[38;5;21m__call__\u001b[39m(\u001b[38;5;28mself\u001b[39m, dyn) \u001b[38;5;241m-\u001b[39m\u001b[38;5;241m>\u001b[39m ArrayLike:\n\u001b[0;32m--> 133\u001b[0m     \u001b[38;5;28;01mreturn\u001b[39;00m np\u001b[38;5;241m.\u001b[39msqrt(dyn\u001b[38;5;241m.\u001b[39mdt) \u001b[38;5;241m*\u001b[39m \u001b[38;5;28;43mself\u001b[39;49m\u001b[38;5;241;43m.\u001b[39;49m\u001b[43msample\u001b[49m\u001b[43m(\u001b[49m\u001b[43mdyn\u001b[49m\u001b[38;5;241;43m.\u001b[39;49m\u001b[43mdrift\u001b[49m\u001b[43m)\u001b[49m\n",
      "File \u001b[0;32m~/Documents/CBXpy/cbx/noise.py:156\u001b[0m, in \u001b[0;36manisotropic_noise.sample\u001b[0;34m(self, drift)\u001b[0m\n\u001b[1;32m    135\u001b[0m \u001b[38;5;28;01mdef\u001b[39;00m \u001b[38;5;21msample\u001b[39m(\u001b[38;5;28mself\u001b[39m, drift: ArrayLike) \u001b[38;5;241m-\u001b[39m\u001b[38;5;241m>\u001b[39m ArrayLike:\n\u001b[1;32m    136\u001b[0m \u001b[38;5;250m    \u001b[39m\u001b[38;5;124mr\u001b[39m\u001b[38;5;124;03m\"\"\"\u001b[39;00m\n\u001b[1;32m    137\u001b[0m \n\u001b[1;32m    138\u001b[0m \u001b[38;5;124;03m    This function implements the anisotropic noise model. From the drift :math:`d = x - c(x)`,\u001b[39;00m\n\u001b[0;32m   (...)\u001b[0m\n\u001b[1;32m    153\u001b[0m \u001b[38;5;124;03m    which motivates the name **anisotropic**.\u001b[39;00m\n\u001b[1;32m    154\u001b[0m \u001b[38;5;124;03m    \"\"\"\u001b[39;00m\n\u001b[0;32m--> 156\u001b[0m     \u001b[38;5;28;01mreturn\u001b[39;00m \u001b[38;5;28;43mself\u001b[39;49m\u001b[38;5;241;43m.\u001b[39;49m\u001b[43msampler\u001b[49m\u001b[43m(\u001b[49m\u001b[38;5;241;43m0\u001b[39;49m\u001b[43m,\u001b[49m\u001b[43m \u001b[49m\u001b[38;5;241;43m1\u001b[39;49m\u001b[43m,\u001b[49m\u001b[43m \u001b[49m\u001b[43msize\u001b[49m\u001b[38;5;241;43m=\u001b[39;49m\u001b[43mdrift\u001b[49m\u001b[38;5;241;43m.\u001b[39;49m\u001b[43mshape\u001b[49m\u001b[43m)\u001b[49m \u001b[38;5;241m*\u001b[39m drift\n",
      "File \u001b[0;32m~/Documents/CBXpy/experiments/nns/cbx_torch_utils.py:21\u001b[0m, in \u001b[0;36mnormal_torch.<locals>._normal_torch\u001b[0;34m(mean, std, size)\u001b[0m\n\u001b[1;32m     20\u001b[0m \u001b[38;5;28;01mdef\u001b[39;00m \u001b[38;5;21m_normal_torch\u001b[39m(mean, std, size):\n\u001b[0;32m---> 21\u001b[0m     \u001b[38;5;28;01mreturn\u001b[39;00m \u001b[43mtorch\u001b[49m\u001b[38;5;241;43m.\u001b[39;49m\u001b[43mnormal\u001b[49m\u001b[43m(\u001b[49m\u001b[43mmean\u001b[49m\u001b[43m,\u001b[49m\u001b[43m \u001b[49m\u001b[43mstd\u001b[49m\u001b[43m,\u001b[49m\u001b[43m \u001b[49m\u001b[43msize\u001b[49m\u001b[43m)\u001b[49m\u001b[38;5;241m.\u001b[39mto(device)\n",
      "\u001b[0;31mKeyboardInterrupt\u001b[0m: "
     ]
    }
   ],
   "source": [
    "e = 0\n",
    "while f.epochs < 10:\n",
    "    dyn.step()\n",
    "    sched.update(dyn)\n",
    "    f.set_batch()\n",
    "    if e != f.epochs:\n",
    "        e = f.epochs\n",
    "        print(30*'-')\n",
    "        print('Epoch: ' +str(f.epochs))\n",
    "        acc = eval_acc(model, dyn.best_particle[0,...], pprop, test_loader)\n",
    "        print('Accuracy: ' + str(acc.item()))\n",
    "        print(30*'-')"
   ]
  },
  {
   "cell_type": "code",
   "execution_count": null,
   "id": "683a67e7-745f-4ada-afee-7421c0921aaf",
   "metadata": {},
   "outputs": [],
   "source": []
  }
 ],
 "metadata": {
  "kernelspec": {
   "display_name": "SuperApp (py3.11)",
   "language": "python",
   "name": "superapp"
  },
  "language_info": {
   "codemirror_mode": {
    "name": "ipython",
    "version": 3
   },
   "file_extension": ".py",
   "mimetype": "text/x-python",
   "name": "python",
   "nbconvert_exporter": "python",
   "pygments_lexer": "ipython3",
   "version": "3.8.18"
  }
 },
 "nbformat": 4,
 "nbformat_minor": 5
}
